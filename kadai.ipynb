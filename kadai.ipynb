{
  "nbformat": 4,
  "nbformat_minor": 0,
  "metadata": {
    "colab": {
      "provenance": [],
      "collapsed_sections": [],
      "authorship_tag": "ABX9TyNnEBsYzsX+DvAbZLQ9HOsJ",
      "include_colab_link": true
    },
    "kernelspec": {
      "name": "python3",
      "display_name": "Python 3"
    },
    "language_info": {
      "name": "python"
    }
  },
  "cells": [
    {
      "cell_type": "markdown",
      "metadata": {
        "id": "view-in-github",
        "colab_type": "text"
      },
      "source": [
        "<a href=\"https://colab.research.google.com/github/SmiSANN/SmiSANN/blob/main/kadai.ipynb\" target=\"_parent\"><img src=\"https://colab.research.google.com/assets/colab-badge.svg\" alt=\"Open In Colab\"/></a>"
      ]
    },
    {
      "cell_type": "markdown",
      "source": [
        "教科書p114例題1"
      ],
      "metadata": {
        "id": "uy3d4iJb8spr"
      }
    },
    {
      "cell_type": "code",
      "execution_count": null,
      "metadata": {
        "id": "bZEIMZ_36eTD"
      },
      "outputs": [],
      "source": [
        "print(\"JOHO\")"
      ]
    },
    {
      "cell_type": "markdown",
      "source": [
        "例題2"
      ],
      "metadata": {
        "id": "kB_UP3dh99fM"
      }
    },
    {
      "cell_type": "code",
      "source": [
        "print(\"JOHO_1\")\n",
        "print(\"JOHO_2\")\n",
        "print(\"JOHO_3\")"
      ],
      "metadata": {
        "id": "_Hpba5w_9_r9"
      },
      "execution_count": null,
      "outputs": []
    },
    {
      "cell_type": "markdown",
      "source": [
        "例題3"
      ],
      "metadata": {
        "id": "aevAYcVE-kG9"
      }
    },
    {
      "cell_type": "code",
      "source": [
        "for num in range(1,6):\n",
        "  print(\"JOHO_\")"
      ],
      "metadata": {
        "id": "-4Ygn0Ag-jqE"
      },
      "execution_count": null,
      "outputs": []
    },
    {
      "cell_type": "markdown",
      "source": [
        "例題4"
      ],
      "metadata": {
        "id": "uFBjlhAI_Wyv"
      }
    },
    {
      "cell_type": "code",
      "source": [
        "a = 1\n",
        "b = 2\n",
        "print(a+b)\n",
        "print(a-b)\n",
        "print(a*b)\n",
        "print(a/b)"
      ],
      "metadata": {
        "id": "0Ii222zT_b9k"
      },
      "execution_count": null,
      "outputs": []
    },
    {
      "cell_type": "markdown",
      "source": [
        "例題５"
      ],
      "metadata": {
        "id": "aIRIIzut_xZd"
      }
    },
    {
      "cell_type": "code",
      "source": [
        "s=0\n",
        "for a in range(1,6):\n",
        "  s=s+a\n",
        "print(s)"
      ],
      "metadata": {
        "id": "ien-dIg3_1Gr"
      },
      "execution_count": null,
      "outputs": []
    },
    {
      "cell_type": "markdown",
      "source": [
        "例題6"
      ],
      "metadata": {
        "id": "PhzsBScHARI9"
      }
    },
    {
      "cell_type": "code",
      "source": [
        "\n",
        "m = input(\"Input any key\")\n",
        "for a in range(1,5):\n",
        "  print(m)"
      ],
      "metadata": {
        "id": "MJxLXpIbATi9"
      },
      "execution_count": null,
      "outputs": []
    },
    {
      "cell_type": "markdown",
      "source": [
        "例題7"
      ],
      "metadata": {
        "id": "T5GEU7wZB3l4"
      }
    },
    {
      "cell_type": "code",
      "source": [
        "a = int (input(\"num>>\"))\n",
        "print(\"number\"+str(a))"
      ],
      "metadata": {
        "id": "4ZxN3JmbB5UI"
      },
      "execution_count": null,
      "outputs": []
    },
    {
      "cell_type": "markdown",
      "source": [
        "例題8"
      ],
      "metadata": {
        "id": "EQdcpjgeNTb9"
      }
    },
    {
      "cell_type": "code",
      "source": [
        "a = int(input(\"NUMBER\"))\n",
        "ans = a%2\n",
        "if ans == 0:\n",
        "  print(\"even number\")\n",
        "else:\n",
        "  print(\"odd number\")"
      ],
      "metadata": {
        "id": "neZC9Bt-NVN9"
      },
      "execution_count": null,
      "outputs": []
    },
    {
      "cell_type": "markdown",
      "source": [
        "例題9"
      ],
      "metadata": {
        "id": "s3GlzVdbOfaW"
      }
    },
    {
      "cell_type": "code",
      "source": [
        "box = [24,15,86,7,6,5,4,3,2,39]\n",
        "for a in range(9):\n",
        "  print(box[a])"
      ],
      "metadata": {
        "id": "824z3wlMOgwX"
      },
      "execution_count": null,
      "outputs": []
    },
    {
      "cell_type": "markdown",
      "source": [
        "例題10"
      ],
      "metadata": {
        "id": "BPsGF4ZYRakZ"
      }
    },
    {
      "cell_type": "code",
      "source": [
        "tuki = [0,31,28,31,30,31,30,31,31,30,31,30,31,365]\n",
        "for a in range(1,14):\n",
        "  if a == 13:\n",
        "    print(\"1年は\"+str(tuki[a])+\"日です\")\n",
        "  else:\n",
        "   print(str(a)+\"月は\"+str(tuki[a])+\"日です\")"
      ],
      "metadata": {
        "id": "FazDCfe4RcZw"
      },
      "execution_count": null,
      "outputs": []
    }
  ]
}